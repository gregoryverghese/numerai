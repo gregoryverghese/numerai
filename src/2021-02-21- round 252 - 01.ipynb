{
 "cells": [
  {
   "cell_type": "markdown",
   "id": "competitive-steam",
   "metadata": {},
   "source": [
    "#### Create our first numerai model - will use ensemble of randomforest regressor, support vector regression and conditional inference. Will also use a cross-validation approach along with random search for hyperparameter tuning"
   ]
  },
  {
   "cell_type": "code",
   "execution_count": null,
   "id": "heated-tucson",
   "metadata": {},
   "outputs": [],
   "source": [
    "#from xgboost import XGBRegressor\n",
    "#from lightgbm import LGBMRegressor\n",
    "#from rgf.sklearn import RGFRegressor\n",
    "#from catboost import CatBoostRegressor"
   ]
  },
  {
   "cell_type": "code",
   "execution_count": 1,
   "id": "painful-indie",
   "metadata": {},
   "outputs": [],
   "source": [
    "import sys\n",
    "\n",
    "import numerapi\n",
    "import numpy as np\n",
    "import pandas as pd\n",
    "import seaborn as sns\n",
    "import matplotlib.pyplot as plt\n",
    "\n",
    "from sklearn.ensemble import RandomForestRegressor\n",
    "from sklearn.ensemble import GradientBoostingRegressor\n",
    "from sklearn.ensemble import ExtraTreesRegressor\n",
    "from sklearn.svm import SVR\n",
    "\n",
    "from sklearn.model_selection import RandomizedSearchCV\n",
    "from sklearn.ensemble import VotingRegressor\n",
    "from sklearn.decomposition import PCA"
   ]
  },
  {
   "cell_type": "code",
   "execution_count": 2,
   "id": "immune-reservoir",
   "metadata": {},
   "outputs": [],
   "source": [
    "public_key='Z3WSDWZNFSLTNXIJPUGWLXUEXNRGENV6'\n",
    "secret_key='LNA57ECIKXLOO73P2JS3CA56BNMAA6BFVFY2YTAQ7IEBS47HWVDFYM7PRHT5OSD2'\n",
    "model_id='cf1b66bc-0e73-44dd-95b4-e3021ea3b09a'"
   ]
  },
  {
   "cell_type": "code",
   "execution_count": 12,
   "id": "meaningful-picture",
   "metadata": {},
   "outputs": [],
   "source": [
    "try:\n",
    "    train_data=pd.read_csv('../data/numerai_dataset_252/numerai_training_data.csv').set_index('id')\n",
    "    test_data=pd.read_csv('../data/numerai_dataset_252/numerai_tournament_data.csv').set_index('id')\n",
    "except Exception as e:\n",
    "    num_api = numerapi.NumerAPI(public_key, secret_key,verbosity=\"info\")\n",
    "    num_api.download_current_dataset(dest_path='../data/')"
   ]
  },
  {
   "cell_type": "code",
   "execution_count": 5,
   "id": "favorite-butterfly",
   "metadata": {},
   "outputs": [
    {
     "data": {
      "text/html": [
       "<div>\n",
       "<style scoped>\n",
       "    .dataframe tbody tr th:only-of-type {\n",
       "        vertical-align: middle;\n",
       "    }\n",
       "\n",
       "    .dataframe tbody tr th {\n",
       "        vertical-align: top;\n",
       "    }\n",
       "\n",
       "    .dataframe thead th {\n",
       "        text-align: right;\n",
       "    }\n",
       "</style>\n",
       "<table border=\"1\" class=\"dataframe\">\n",
       "  <thead>\n",
       "    <tr style=\"text-align: right;\">\n",
       "      <th></th>\n",
       "      <th>era</th>\n",
       "      <th>data_type</th>\n",
       "      <th>feature_intelligence1</th>\n",
       "      <th>feature_intelligence2</th>\n",
       "      <th>feature_intelligence3</th>\n",
       "      <th>feature_intelligence4</th>\n",
       "      <th>feature_intelligence5</th>\n",
       "      <th>feature_intelligence6</th>\n",
       "      <th>feature_intelligence7</th>\n",
       "      <th>feature_intelligence8</th>\n",
       "      <th>...</th>\n",
       "      <th>feature_wisdom38</th>\n",
       "      <th>feature_wisdom39</th>\n",
       "      <th>feature_wisdom40</th>\n",
       "      <th>feature_wisdom41</th>\n",
       "      <th>feature_wisdom42</th>\n",
       "      <th>feature_wisdom43</th>\n",
       "      <th>feature_wisdom44</th>\n",
       "      <th>feature_wisdom45</th>\n",
       "      <th>feature_wisdom46</th>\n",
       "      <th>target</th>\n",
       "    </tr>\n",
       "    <tr>\n",
       "      <th>id</th>\n",
       "      <th></th>\n",
       "      <th></th>\n",
       "      <th></th>\n",
       "      <th></th>\n",
       "      <th></th>\n",
       "      <th></th>\n",
       "      <th></th>\n",
       "      <th></th>\n",
       "      <th></th>\n",
       "      <th></th>\n",
       "      <th></th>\n",
       "      <th></th>\n",
       "      <th></th>\n",
       "      <th></th>\n",
       "      <th></th>\n",
       "      <th></th>\n",
       "      <th></th>\n",
       "      <th></th>\n",
       "      <th></th>\n",
       "      <th></th>\n",
       "      <th></th>\n",
       "    </tr>\n",
       "  </thead>\n",
       "  <tbody>\n",
       "    <tr>\n",
       "      <th>n000315175b67977</th>\n",
       "      <td>era1</td>\n",
       "      <td>train</td>\n",
       "      <td>0.00</td>\n",
       "      <td>0.50</td>\n",
       "      <td>0.25</td>\n",
       "      <td>0.00</td>\n",
       "      <td>0.5</td>\n",
       "      <td>0.25</td>\n",
       "      <td>0.25</td>\n",
       "      <td>0.25</td>\n",
       "      <td>...</td>\n",
       "      <td>1.00</td>\n",
       "      <td>1.00</td>\n",
       "      <td>0.75</td>\n",
       "      <td>0.50</td>\n",
       "      <td>0.75</td>\n",
       "      <td>0.50</td>\n",
       "      <td>1.00</td>\n",
       "      <td>0.50</td>\n",
       "      <td>0.75</td>\n",
       "      <td>0.50</td>\n",
       "    </tr>\n",
       "    <tr>\n",
       "      <th>n0014af834a96cdd</th>\n",
       "      <td>era1</td>\n",
       "      <td>train</td>\n",
       "      <td>0.00</td>\n",
       "      <td>0.00</td>\n",
       "      <td>0.00</td>\n",
       "      <td>0.25</td>\n",
       "      <td>0.5</td>\n",
       "      <td>0.00</td>\n",
       "      <td>0.00</td>\n",
       "      <td>0.25</td>\n",
       "      <td>...</td>\n",
       "      <td>1.00</td>\n",
       "      <td>1.00</td>\n",
       "      <td>0.00</td>\n",
       "      <td>0.00</td>\n",
       "      <td>0.75</td>\n",
       "      <td>0.25</td>\n",
       "      <td>0.00</td>\n",
       "      <td>0.25</td>\n",
       "      <td>1.00</td>\n",
       "      <td>0.25</td>\n",
       "    </tr>\n",
       "    <tr>\n",
       "      <th>n001c93979ac41d4</th>\n",
       "      <td>era1</td>\n",
       "      <td>train</td>\n",
       "      <td>0.25</td>\n",
       "      <td>0.50</td>\n",
       "      <td>0.25</td>\n",
       "      <td>0.25</td>\n",
       "      <td>1.0</td>\n",
       "      <td>0.75</td>\n",
       "      <td>0.75</td>\n",
       "      <td>0.25</td>\n",
       "      <td>...</td>\n",
       "      <td>0.25</td>\n",
       "      <td>0.50</td>\n",
       "      <td>0.00</td>\n",
       "      <td>0.00</td>\n",
       "      <td>0.50</td>\n",
       "      <td>1.00</td>\n",
       "      <td>0.00</td>\n",
       "      <td>0.25</td>\n",
       "      <td>0.75</td>\n",
       "      <td>0.25</td>\n",
       "    </tr>\n",
       "    <tr>\n",
       "      <th>n0034e4143f22a13</th>\n",
       "      <td>era1</td>\n",
       "      <td>train</td>\n",
       "      <td>1.00</td>\n",
       "      <td>0.00</td>\n",
       "      <td>0.00</td>\n",
       "      <td>0.50</td>\n",
       "      <td>0.5</td>\n",
       "      <td>0.25</td>\n",
       "      <td>0.25</td>\n",
       "      <td>0.75</td>\n",
       "      <td>...</td>\n",
       "      <td>1.00</td>\n",
       "      <td>1.00</td>\n",
       "      <td>0.75</td>\n",
       "      <td>0.75</td>\n",
       "      <td>1.00</td>\n",
       "      <td>1.00</td>\n",
       "      <td>0.75</td>\n",
       "      <td>1.00</td>\n",
       "      <td>1.00</td>\n",
       "      <td>0.25</td>\n",
       "    </tr>\n",
       "    <tr>\n",
       "      <th>n00679d1a636062f</th>\n",
       "      <td>era1</td>\n",
       "      <td>train</td>\n",
       "      <td>0.25</td>\n",
       "      <td>0.25</td>\n",
       "      <td>0.25</td>\n",
       "      <td>0.25</td>\n",
       "      <td>0.0</td>\n",
       "      <td>0.25</td>\n",
       "      <td>0.50</td>\n",
       "      <td>0.25</td>\n",
       "      <td>...</td>\n",
       "      <td>0.75</td>\n",
       "      <td>0.75</td>\n",
       "      <td>0.25</td>\n",
       "      <td>0.50</td>\n",
       "      <td>0.75</td>\n",
       "      <td>0.00</td>\n",
       "      <td>0.50</td>\n",
       "      <td>0.25</td>\n",
       "      <td>0.75</td>\n",
       "      <td>0.75</td>\n",
       "    </tr>\n",
       "  </tbody>\n",
       "</table>\n",
       "<p>5 rows × 313 columns</p>\n",
       "</div>"
      ],
      "text/plain": [
       "                   era data_type  feature_intelligence1  \\\n",
       "id                                                        \n",
       "n000315175b67977  era1     train                   0.00   \n",
       "n0014af834a96cdd  era1     train                   0.00   \n",
       "n001c93979ac41d4  era1     train                   0.25   \n",
       "n0034e4143f22a13  era1     train                   1.00   \n",
       "n00679d1a636062f  era1     train                   0.25   \n",
       "\n",
       "                  feature_intelligence2  feature_intelligence3  \\\n",
       "id                                                               \n",
       "n000315175b67977                   0.50                   0.25   \n",
       "n0014af834a96cdd                   0.00                   0.00   \n",
       "n001c93979ac41d4                   0.50                   0.25   \n",
       "n0034e4143f22a13                   0.00                   0.00   \n",
       "n00679d1a636062f                   0.25                   0.25   \n",
       "\n",
       "                  feature_intelligence4  feature_intelligence5  \\\n",
       "id                                                               \n",
       "n000315175b67977                   0.00                    0.5   \n",
       "n0014af834a96cdd                   0.25                    0.5   \n",
       "n001c93979ac41d4                   0.25                    1.0   \n",
       "n0034e4143f22a13                   0.50                    0.5   \n",
       "n00679d1a636062f                   0.25                    0.0   \n",
       "\n",
       "                  feature_intelligence6  feature_intelligence7  \\\n",
       "id                                                               \n",
       "n000315175b67977                   0.25                   0.25   \n",
       "n0014af834a96cdd                   0.00                   0.00   \n",
       "n001c93979ac41d4                   0.75                   0.75   \n",
       "n0034e4143f22a13                   0.25                   0.25   \n",
       "n00679d1a636062f                   0.25                   0.50   \n",
       "\n",
       "                  feature_intelligence8  ...  feature_wisdom38  \\\n",
       "id                                       ...                     \n",
       "n000315175b67977                   0.25  ...              1.00   \n",
       "n0014af834a96cdd                   0.25  ...              1.00   \n",
       "n001c93979ac41d4                   0.25  ...              0.25   \n",
       "n0034e4143f22a13                   0.75  ...              1.00   \n",
       "n00679d1a636062f                   0.25  ...              0.75   \n",
       "\n",
       "                  feature_wisdom39  feature_wisdom40  feature_wisdom41  \\\n",
       "id                                                                       \n",
       "n000315175b67977              1.00              0.75              0.50   \n",
       "n0014af834a96cdd              1.00              0.00              0.00   \n",
       "n001c93979ac41d4              0.50              0.00              0.00   \n",
       "n0034e4143f22a13              1.00              0.75              0.75   \n",
       "n00679d1a636062f              0.75              0.25              0.50   \n",
       "\n",
       "                  feature_wisdom42  feature_wisdom43  feature_wisdom44  \\\n",
       "id                                                                       \n",
       "n000315175b67977              0.75              0.50              1.00   \n",
       "n0014af834a96cdd              0.75              0.25              0.00   \n",
       "n001c93979ac41d4              0.50              1.00              0.00   \n",
       "n0034e4143f22a13              1.00              1.00              0.75   \n",
       "n00679d1a636062f              0.75              0.00              0.50   \n",
       "\n",
       "                  feature_wisdom45  feature_wisdom46  target  \n",
       "id                                                            \n",
       "n000315175b67977              0.50              0.75    0.50  \n",
       "n0014af834a96cdd              0.25              1.00    0.25  \n",
       "n001c93979ac41d4              0.25              0.75    0.25  \n",
       "n0034e4143f22a13              1.00              1.00    0.25  \n",
       "n00679d1a636062f              0.25              0.75    0.75  \n",
       "\n",
       "[5 rows x 313 columns]"
      ]
     },
     "execution_count": 5,
     "metadata": {},
     "output_type": "execute_result"
    }
   ],
   "source": [
    "train_data.head()"
   ]
  },
  {
   "cell_type": "code",
   "execution_count": 5,
   "id": "christian-approval",
   "metadata": {},
   "outputs": [],
   "source": [
    "feature_names=[c for c in train_data.columns if 'feature' in c]"
   ]
  },
  {
   "cell_type": "markdown",
   "id": "united-forge",
   "metadata": {},
   "source": [
    "#### Scoring functions "
   ]
  },
  {
   "cell_type": "code",
   "execution_count": 7,
   "id": "small-white",
   "metadata": {},
   "outputs": [],
   "source": [
    "# The models should be scored based on the rank-correlation (spearman) with the target\n",
    "def numerai_score(y_true, y_pred):\n",
    "    rank_pred = y_pred.groupby(eras).apply(lambda x: x.rank(pct=True, method=\"first\"))\n",
    "    return numpy.corrcoef(y_true, rank_pred)[0,1]\n",
    "\n",
    "# It can also be convenient while working to evaluate based on the regular (pearson) correlation\n",
    "def correlation_score(y_true, y_pred):\n",
    "    return numpy.corrcoef(y_true, y_pred)[0,1]"
   ]
  },
  {
   "cell_type": "code",
   "execution_count": null,
   "id": "senior-tuning",
   "metadata": {},
   "outputs": [],
   "source": []
  },
  {
   "cell_type": "markdown",
   "id": "mineral-satin",
   "metadata": {},
   "source": [
    "#### Preprocessing"
   ]
  },
  {
   "cell_type": "markdown",
   "id": "intellectual-theorem",
   "metadata": {},
   "source": [
    "Lets look at correlations on the features"
   ]
  },
  {
   "cell_type": "code",
   "execution_count": 28,
   "id": "diverse-server",
   "metadata": {},
   "outputs": [],
   "source": [
    "correlations=train_data[feature_names].corr()"
   ]
  },
  {
   "cell_type": "code",
   "execution_count": 51,
   "id": "characteristic-level",
   "metadata": {},
   "outputs": [
    {
     "data": {
      "text/plain": [
       "feature_constitution112  feature_constitution9    -0.855008\n",
       "feature_constitution33   feature_constitution46   -0.830310\n",
       "feature_constitution112  feature_constitution60   -0.820694\n",
       "feature_constitution46   feature_constitution87   -0.815888\n",
       "feature_constitution112  feature_constitution33   -0.759084\n",
       "                                                     ...   \n",
       "feature_constitution27   feature_constitution7     0.948920\n",
       "feature_constitution13   feature_constitution79    0.949139\n",
       "feature_wisdom31         feature_wisdom39          0.954984\n",
       "feature_wisdom46         feature_wisdom7           0.963706\n",
       "feature_wisdom12         feature_wisdom2           0.968062\n",
       "Length: 47895, dtype: float64"
      ]
     },
     "execution_count": 51,
     "metadata": {},
     "output_type": "execute_result"
    }
   ],
   "source": [
    "corr_stack = correlations.stack()\n",
    "corr_stack = corr_stack[corr_stack.index.get_level_values(0)<corr_stack.index.get_level_values(1)]\n",
    "corr_stack.sort_values()"
   ]
  },
  {
   "cell_type": "code",
   "execution_count": 7,
   "id": "dressed-october",
   "metadata": {},
   "outputs": [],
   "source": [
    "NUM_COMPONENTS=50"
   ]
  },
  {
   "cell_type": "code",
   "execution_count": 11,
   "id": "activated-blade",
   "metadata": {},
   "outputs": [
    {
     "ename": "IndexError",
     "evalue": "only integers, slices (`:`), ellipsis (`...`), numpy.newaxis (`None`) and integer or boolean arrays are valid indices",
     "output_type": "error",
     "traceback": [
      "\u001b[0;31m----------------------------------------------------------\u001b[0m",
      "\u001b[0;31mIndexError\u001b[0m               Traceback (most recent call last)",
      "\u001b[0;32m<ipython-input-11-f84e3b4a053c>\u001b[0m in \u001b[0;36m<module>\u001b[0;34m\u001b[0m\n\u001b[0;32m----> 1\u001b[0;31m \u001b[0mtrain_data\u001b[0m\u001b[0;34m=\u001b[0m\u001b[0mnp\u001b[0m\u001b[0;34m.\u001b[0m\u001b[0mnan_to_num\u001b[0m\u001b[0;34m(\u001b[0m\u001b[0mtrain_data\u001b[0m\u001b[0;34m[\u001b[0m\u001b[0mfeature_names\u001b[0m\u001b[0;34m]\u001b[0m\u001b[0;34m)\u001b[0m\u001b[0;34m\u001b[0m\u001b[0;34m\u001b[0m\u001b[0m\n\u001b[0m\u001b[1;32m      2\u001b[0m \u001b[0mtrain_data\u001b[0m\u001b[0;34m\u001b[0m\u001b[0;34m\u001b[0m\u001b[0m\n",
      "\u001b[0;31mIndexError\u001b[0m: only integers, slices (`:`), ellipsis (`...`), numpy.newaxis (`None`) and integer or boolean arrays are valid indices"
     ]
    }
   ],
   "source": [
    "train_data=np.nan_to_num(train_data[feature_names])"
   ]
  },
  {
   "cell_type": "code",
   "execution_count": null,
   "id": "excellent-attendance",
   "metadata": {},
   "outputs": [],
   "source": [
    "train_data"
   ]
  },
  {
   "cell_type": "code",
   "execution_count": 8,
   "id": "affected-background",
   "metadata": {},
   "outputs": [
    {
     "name": "stdout",
     "output_type": "stream",
     "text": [
      "Number of features: 310\n"
     ]
    },
    {
     "data": {
      "text/plain": [
       "PCA(copy=True, iterated_power='auto', n_components=50, random_state=None,\n",
       "    svd_solver='auto', tol=0.0, whiten=False)"
      ]
     },
     "execution_count": 8,
     "metadata": {},
     "output_type": "execute_result"
    }
   ],
   "source": [
    "print('Number of features: {}'.format(len(feature_names)))\n",
    "pca=PCA(n_components=NUM_COMPONENTS)\n",
    "pca.fit(train_data[feature_names])"
   ]
  },
  {
   "cell_type": "code",
   "execution_count": 14,
   "id": "continent-complaint",
   "metadata": {},
   "outputs": [
    {
     "data": {
      "text/plain": [
       "<matplotlib.lines.Line2D at 0x137dd7cd0>"
      ]
     },
     "execution_count": 14,
     "metadata": {},
     "output_type": "execute_result"
    },
    {
     "data": {
      "image/png": "[encoded data removed]",
      "text/plain": [
       "<Figure size 864x288 with 2 Axes>"
      ]
     },
     "metadata": {
      "needs_background": "light"
     },
     "output_type": "display_data"
    }
   ],
   "source": [
    "f, axes=plt.subplots(1,2,figsize=(12,4))\n",
    "axes[0].plot(pca.explained_variance_ratio_)\n",
    "axes[0].set_xlabel('number of components')\n",
    "axes[0].set_ylabel('explained variance for each component')\n",
    "axes[0].axvline(linewidth=4, color='r', linestyle = '--', x=10, ymin=0, ymax=1)\n",
    "\n",
    "axes[1].plot(np.cumsum(pca.explained_variance_ratio_))\n",
    "axes[1].set_xlabel('number of components')\n",
    "axes[1].set_ylabel('cumulative explained variance')\n",
    "axes[1].axvline(linewidth=4, color='r', linestyle = '--', x=10, ymin=0, ymax=1)"
   ]
  },
  {
   "cell_type": "code",
   "execution_count": 15,
   "id": "furnished-limit",
   "metadata": {},
   "outputs": [],
   "source": [
    "x_train_pca = pca.transform(train_data[feature_names])\n",
    "x_test_pca = pca.transform(test_data[feature_names])"
   ]
  },
  {
   "cell_type": "code",
   "execution_count": 17,
   "id": "delayed-garbage",
   "metadata": {},
   "outputs": [
    {
     "data": {
      "text/plain": [
       "(5, 50)"
      ]
     },
     "execution_count": 17,
     "metadata": {},
     "output_type": "execute_result"
    }
   ],
   "source": [
    "x_train_pca[:5].shape"
   ]
  },
  {
   "cell_type": "code",
   "execution_count": 60,
   "id": "upset-mattress",
   "metadata": {},
   "outputs": [
    {
     "data": {
      "text/plain": [
       "0   1    -1.792831e-13\n",
       "    2     3.641926e-13\n",
       "    3    -9.711140e-12\n",
       "    4     1.285948e-11\n",
       "    5     7.381696e-12\n",
       "              ...     \n",
       "46  48   -3.311675e-03\n",
       "    49   -1.690684e-03\n",
       "47  48    4.583795e-04\n",
       "    49    1.208245e-03\n",
       "48  49    3.099369e-03\n",
       "Length: 1225, dtype: float64"
      ]
     },
     "execution_count": 60,
     "metadata": {},
     "output_type": "execute_result"
    }
   ],
   "source": [
    "x_train_pca_df=pd.DataFrame(x_train_pca)\n",
    "correlations_pca=x_train_pca_df.corr()\n",
    "stack_corr_pca=correlations_pca.stack()\n",
    "stack_corr_pca=stack_corr_pca[stack_corr_pca.index.get_level_values(0)<stack_corr_pca.index.get_level_values(1)]"
   ]
  },
  {
   "cell_type": "code",
   "execution_count": 61,
   "id": "intensive-spanish",
   "metadata": {},
   "outputs": [
    {
     "data": {
      "text/plain": [
       "0  1   -1.792831e-13\n",
       "   2    3.641926e-13\n",
       "   3   -9.711140e-12\n",
       "   4    1.285948e-11\n",
       "   5    7.381696e-12\n",
       "dtype: float64"
      ]
     },
     "execution_count": 61,
     "metadata": {},
     "output_type": "execute_result"
    }
   ],
   "source": [
    "stack_corr_pca.head()"
   ]
  },
  {
   "cell_type": "markdown",
   "id": "involved-lesson",
   "metadata": {},
   "source": [
    "#### Random Forest"
   ]
  },
  {
   "cell_type": "markdown",
   "id": "dutch-likelihood",
   "metadata": {},
   "source": [
    "Lets consider a number of parameters to tune\n",
    "- number of forests\n",
    "- max features to split on each node\n",
    "- max depth of the tree\n",
    "- boostrap\n",
    "- min samples split: minimum number of data points before node is split\n",
    "- min sample leaf: minimum number of data points allowed in a leaf node"
   ]
  },
  {
   "cell_type": "code",
   "execution_count": 12,
   "id": "latest-minnesota",
   "metadata": {},
   "outputs": [],
   "source": [
    "n_estimators = [int(x) for x in np.linspace(start = 20, stop = 2000, num = 15)]\n",
    "max_features = ['auto', 'sqrt']\n",
    "max_depth = [int(x) for x in np.linspace(10, 110, num = 11)]\n",
    "max_depth.append(None)\n",
    "min_samples_split = [2, 5, 10]\n",
    "min_samples_leaf = [1, 2, 4]\n",
    "bootstrap = [True, False]"
   ]
  },
  {
   "cell_type": "code",
   "execution_count": 13,
   "id": "declared-screen",
   "metadata": {},
   "outputs": [],
   "source": [
    "random_grid = {'n_estimators': n_estimators,\n",
    "               'max_features': max_features,\n",
    "               'max_depth': max_depth,\n",
    "               'min_samples_split': min_samples_split,\n",
    "               'min_samples_leaf': min_samples_leaf,\n",
    "               'bootstrap': bootstrap}"
   ]
  },
  {
   "cell_type": "code",
   "execution_count": null,
   "id": "pleased-currency",
   "metadata": {},
   "outputs": [],
   "source": [
    "rf = RandomForestRegressor()\n",
    "rf_randomsearch=RandomizedSearchCV(estimator=rf, param_distributions=random_grid, \n",
    "                                   cv=10, n_iter=100, n_jobs=-1)\n",
    "\n",
    "model_rf=rf_randomsearch.fit(x_train_pca,train_data['target'])"
   ]
  },
  {
   "cell_type": "code",
   "execution_count": null,
   "id": "opening-spotlight",
   "metadata": {},
   "outputs": [],
   "source": [
    "print('best model: {}'.format(model_rf.best_estimator_))\n",
    "print('best score: {}'.format(model_rf.best_score_))\n",
    "print('best model_params: {}'.format(model_rf.best_params_))"
   ]
  },
  {
   "cell_type": "code",
   "execution_count": 70,
   "id": "revised-newport",
   "metadata": {},
   "outputs": [],
   "source": [
    "params_results = pd.DataFrame(model_rf.cv_results_).sort_values('rank_test_score').reset_index(drop=True)\n",
    "params_results = params_results.drop(['mean_fit_time', 'std_fit_time','mean_score_time',\n",
    "                                     'std_score_time','params','split0_test_score',\n",
    "                                     'split1_test_score', 'std_test_score'], axis=1)"
   ]
  },
  {
   "cell_type": "code",
   "execution_count": 72,
   "id": "primary-algeria",
   "metadata": {},
   "outputs": [
    {
     "data": {
      "text/html": [
       "<div>\n",
       "<style scoped>\n",
       "    .dataframe tbody tr th:only-of-type {\n",
       "        vertical-align: middle;\n",
       "    }\n",
       "\n",
       "    .dataframe tbody tr th {\n",
       "        vertical-align: top;\n",
       "    }\n",
       "\n",
       "    .dataframe thead th {\n",
       "        text-align: right;\n",
       "    }\n",
       "</style>\n",
       "<table border=\"1\" class=\"dataframe\">\n",
       "  <thead>\n",
       "    <tr style=\"text-align: right;\">\n",
       "      <th></th>\n",
       "      <th>param_n_estimators</th>\n",
       "      <th>param_min_samples_split</th>\n",
       "      <th>param_min_samples_leaf</th>\n",
       "      <th>param_max_features</th>\n",
       "      <th>param_max_depth</th>\n",
       "      <th>param_bootstrap</th>\n",
       "      <th>mean_test_score</th>\n",
       "      <th>rank_test_score</th>\n",
       "    </tr>\n",
       "  </thead>\n",
       "  <tbody>\n",
       "    <tr>\n",
       "      <th>0</th>\n",
       "      <td>20</td>\n",
       "      <td>5</td>\n",
       "      <td>4</td>\n",
       "      <td>sqrt</td>\n",
       "      <td>40</td>\n",
       "      <td>True</td>\n",
       "      <td>-0.889750</td>\n",
       "      <td>1</td>\n",
       "    </tr>\n",
       "    <tr>\n",
       "      <th>1</th>\n",
       "      <td>20</td>\n",
       "      <td>2</td>\n",
       "      <td>2</td>\n",
       "      <td>auto</td>\n",
       "      <td>70</td>\n",
       "      <td>True</td>\n",
       "      <td>-1.072444</td>\n",
       "      <td>2</td>\n",
       "    </tr>\n",
       "    <tr>\n",
       "      <th>2</th>\n",
       "      <td>161</td>\n",
       "      <td>5</td>\n",
       "      <td>4</td>\n",
       "      <td>auto</td>\n",
       "      <td>40</td>\n",
       "      <td>True</td>\n",
       "      <td>-1.210183</td>\n",
       "      <td>3</td>\n",
       "    </tr>\n",
       "    <tr>\n",
       "      <th>3</th>\n",
       "      <td>161</td>\n",
       "      <td>2</td>\n",
       "      <td>2</td>\n",
       "      <td>sqrt</td>\n",
       "      <td>30</td>\n",
       "      <td>True</td>\n",
       "      <td>-1.238642</td>\n",
       "      <td>4</td>\n",
       "    </tr>\n",
       "    <tr>\n",
       "      <th>4</th>\n",
       "      <td>444</td>\n",
       "      <td>5</td>\n",
       "      <td>1</td>\n",
       "      <td>sqrt</td>\n",
       "      <td>70</td>\n",
       "      <td>True</td>\n",
       "      <td>-1.250355</td>\n",
       "      <td>5</td>\n",
       "    </tr>\n",
       "  </tbody>\n",
       "</table>\n",
       "</div>"
      ],
      "text/plain": [
       "  param_n_estimators param_min_samples_split param_min_samples_leaf  \\\n",
       "0                 20                       5                      4   \n",
       "1                 20                       2                      2   \n",
       "2                161                       5                      4   \n",
       "3                161                       2                      2   \n",
       "4                444                       5                      1   \n",
       "\n",
       "  param_max_features param_max_depth param_bootstrap  mean_test_score  \\\n",
       "0               sqrt              40            True        -0.889750   \n",
       "1               auto              70            True        -1.072444   \n",
       "2               auto              40            True        -1.210183   \n",
       "3               sqrt              30            True        -1.238642   \n",
       "4               sqrt              70            True        -1.250355   \n",
       "\n",
       "   rank_test_score  \n",
       "0                1  \n",
       "1                2  \n",
       "2                3  \n",
       "3                4  \n",
       "4                5  "
      ]
     },
     "execution_count": 72,
     "metadata": {},
     "output_type": "execute_result"
    }
   ],
   "source": [
    "params_results.head(5)"
   ]
  },
  {
   "cell_type": "code",
   "execution_count": 19,
   "id": "skilled-filename",
   "metadata": {},
   "outputs": [
    {
     "ename": "NameError",
     "evalue": "name 'params_results' is not defined",
     "output_type": "error",
     "traceback": [
      "\u001b[0;31m---------------------------------------------------------------------------\u001b[0m",
      "\u001b[0;31mNameError\u001b[0m                                 Traceback (most recent call last)",
      "\u001b[0;32m<ipython-input-19-651c48c06353>\u001b[0m in \u001b[0;36m<module>\u001b[0;34m\u001b[0m\n\u001b[1;32m      1\u001b[0m \u001b[0mf\u001b[0m\u001b[0;34m,\u001b[0m\u001b[0maxes\u001b[0m\u001b[0;34m=\u001b[0m\u001b[0mplt\u001b[0m\u001b[0;34m.\u001b[0m\u001b[0msubplots\u001b[0m\u001b[0;34m(\u001b[0m\u001b[0;36m2\u001b[0m\u001b[0;34m,\u001b[0m\u001b[0;36m3\u001b[0m\u001b[0;34m,\u001b[0m\u001b[0mfigsize\u001b[0m\u001b[0;34m=\u001b[0m\u001b[0;34m(\u001b[0m\u001b[0;36m15\u001b[0m\u001b[0;34m,\u001b[0m\u001b[0;36m8\u001b[0m\u001b[0;34m)\u001b[0m\u001b[0;34m)\u001b[0m\u001b[0;34m\u001b[0m\u001b[0;34m\u001b[0m\u001b[0m\n\u001b[0;32m----> 2\u001b[0;31m \u001b[0msns\u001b[0m\u001b[0;34m.\u001b[0m\u001b[0mbarplot\u001b[0m\u001b[0;34m(\u001b[0m\u001b[0mx\u001b[0m\u001b[0;34m=\u001b[0m\u001b[0;34m'param_n_estimators'\u001b[0m\u001b[0;34m,\u001b[0m\u001b[0my\u001b[0m\u001b[0;34m=\u001b[0m\u001b[0;34m'mean_test_score'\u001b[0m\u001b[0;34m,\u001b[0m\u001b[0mdata\u001b[0m\u001b[0;34m=\u001b[0m\u001b[0mparams_results\u001b[0m\u001b[0;34m,\u001b[0m\u001b[0mcolor\u001b[0m\u001b[0;34m=\u001b[0m\u001b[0;34m'blue'\u001b[0m\u001b[0;34m,\u001b[0m\u001b[0max\u001b[0m\u001b[0;34m=\u001b[0m\u001b[0maxes\u001b[0m\u001b[0;34m[\u001b[0m\u001b[0;36m0\u001b[0m\u001b[0;34m,\u001b[0m\u001b[0;36m0\u001b[0m\u001b[0;34m]\u001b[0m\u001b[0;34m)\u001b[0m\u001b[0;34m\u001b[0m\u001b[0;34m\u001b[0m\u001b[0m\n\u001b[0m\u001b[1;32m      3\u001b[0m \u001b[0msns\u001b[0m\u001b[0;34m.\u001b[0m\u001b[0mbarplot\u001b[0m\u001b[0;34m(\u001b[0m\u001b[0mx\u001b[0m\u001b[0;34m=\u001b[0m\u001b[0;34m'param_min_samples_leaf'\u001b[0m\u001b[0;34m,\u001b[0m\u001b[0my\u001b[0m\u001b[0;34m=\u001b[0m\u001b[0;34m'mean_test_score'\u001b[0m\u001b[0;34m,\u001b[0m\u001b[0mdata\u001b[0m\u001b[0;34m=\u001b[0m\u001b[0mparams_results\u001b[0m\u001b[0;34m,\u001b[0m\u001b[0mcolor\u001b[0m\u001b[0;34m=\u001b[0m\u001b[0;34m'blue'\u001b[0m\u001b[0;34m,\u001b[0m\u001b[0max\u001b[0m\u001b[0;34m=\u001b[0m\u001b[0maxes\u001b[0m\u001b[0;34m[\u001b[0m\u001b[0;36m0\u001b[0m\u001b[0;34m,\u001b[0m\u001b[0;36m1\u001b[0m\u001b[0;34m]\u001b[0m\u001b[0;34m)\u001b[0m\u001b[0;34m\u001b[0m\u001b[0;34m\u001b[0m\u001b[0m\n\u001b[1;32m      4\u001b[0m \u001b[0msns\u001b[0m\u001b[0;34m.\u001b[0m\u001b[0mbarplot\u001b[0m\u001b[0;34m(\u001b[0m\u001b[0mx\u001b[0m\u001b[0;34m=\u001b[0m\u001b[0;34m'param_max_features'\u001b[0m\u001b[0;34m,\u001b[0m\u001b[0my\u001b[0m\u001b[0;34m=\u001b[0m\u001b[0;34m'mean_test_score'\u001b[0m\u001b[0;34m,\u001b[0m\u001b[0mdata\u001b[0m\u001b[0;34m=\u001b[0m\u001b[0mparams_results\u001b[0m\u001b[0;34m,\u001b[0m\u001b[0mcolor\u001b[0m\u001b[0;34m=\u001b[0m\u001b[0;34m'blue'\u001b[0m\u001b[0;34m,\u001b[0m\u001b[0max\u001b[0m\u001b[0;34m=\u001b[0m\u001b[0maxes\u001b[0m\u001b[0;34m[\u001b[0m\u001b[0;36m0\u001b[0m\u001b[0;34m,\u001b[0m\u001b[0;36m2\u001b[0m\u001b[0;34m]\u001b[0m\u001b[0;34m)\u001b[0m\u001b[0;34m\u001b[0m\u001b[0;34m\u001b[0m\u001b[0m\n\u001b[1;32m      5\u001b[0m \u001b[0msns\u001b[0m\u001b[0;34m.\u001b[0m\u001b[0mbarplot\u001b[0m\u001b[0;34m(\u001b[0m\u001b[0mx\u001b[0m\u001b[0;34m=\u001b[0m\u001b[0;34m'param_max_depth'\u001b[0m\u001b[0;34m,\u001b[0m\u001b[0my\u001b[0m\u001b[0;34m=\u001b[0m\u001b[0;34m'mean_test_score'\u001b[0m\u001b[0;34m,\u001b[0m\u001b[0mdata\u001b[0m\u001b[0;34m=\u001b[0m\u001b[0mparams_results\u001b[0m\u001b[0;34m,\u001b[0m\u001b[0mcolor\u001b[0m\u001b[0;34m=\u001b[0m\u001b[0;34m'blue'\u001b[0m\u001b[0;34m,\u001b[0m\u001b[0max\u001b[0m\u001b[0;34m=\u001b[0m\u001b[0maxes\u001b[0m\u001b[0;34m[\u001b[0m\u001b[0;36m1\u001b[0m\u001b[0;34m,\u001b[0m\u001b[0;36m0\u001b[0m\u001b[0;34m]\u001b[0m\u001b[0;34m)\u001b[0m\u001b[0;34m\u001b[0m\u001b[0;34m\u001b[0m\u001b[0m\n",
      "\u001b[0;31mNameError\u001b[0m: name 'params_results' is not defined"
     ]
    },
    {
     "data": {
      "image/png": "[encoded data removed]",
      "text/plain": [
       "<Figure size 1080x576 with 6 Axes>"
      ]
     },
     "metadata": {
      "needs_background": "light"
     },
     "output_type": "display_data"
    }
   ],
   "source": [
    "f,axes=plt.subplots(2,3,figsize=(15,8))\n",
    "sns.barplot(x='param_n_estimators',y='mean_test_score',data=params_results,color='blue',ax=axes[0,0])\n",
    "sns.barplot(x='param_min_samples_leaf',y='mean_test_score',data=params_results,color='blue',ax=axes[0,1])\n",
    "sns.barplot(x='param_max_features',y='mean_test_score',data=params_results,color='blue',ax=axes[0,2])\n",
    "sns.barplot(x='param_max_depth',y='mean_test_score',data=params_results,color='blue',ax=axes[1,0])\n",
    "sns.barplot(x='param_bootstrap',y='mean_test_score',data=params_results,color='red',ax=axes[1,1])\n",
    "sns.barplot(x='param_min_samples_split',y='mean_test_score',data=params_results,color='blue',ax=axes[1,2])\n",
    "\n",
    "plt.tight_layout()"
   ]
  },
  {
   "cell_type": "code",
   "execution_count": null,
   "id": "everyday-mediterranean",
   "metadata": {},
   "outputs": [],
   "source": [
    "rf_model_best=model_rf.best_estimator_\n",
    "rf_model_best.fit(train_data[feature_names],train_data['target'])\n",
    "predictions=rf_model_best.predict(test_data[feature_names])"
   ]
  },
  {
   "cell_type": "code",
   "execution_count": null,
   "id": "perfect-egyptian",
   "metadata": {},
   "outputs": [],
   "source": []
  },
  {
   "cell_type": "markdown",
   "id": "pending-counter",
   "metadata": {},
   "source": [
    "#### gradient boosting"
   ]
  },
  {
   "cell_type": "code",
   "execution_count": null,
   "id": "oriented-denial",
   "metadata": {},
   "outputs": [],
   "source": [
    "loss=['ls', 'lad', 'huber', 'quantile']\n",
    "n_estimators = [int(x) for x in np.linspace(start = 20, stop = 2000, num = 15)]\n",
    "max_features = ['auto', 'sqrt']\n",
    "max_depth = [int(x) for x in np.linspace(10, 110, num = 11)]\n",
    "max_depth.append(None)\n",
    "min_samples_split = [2, 5, 10]\n",
    "min_samples_leaf = [1, 2, 4]\n",
    "learning_rate = [0.1,0.01,0.001]\n",
    "\n",
    "random_grid = {'loss': loss,\n",
    "               'n_estimators': n_estimators,\n",
    "               'max_features': max_features,\n",
    "               'max_depth': max_depth,\n",
    "               'min_samples_split': min_samples_split,\n",
    "               'min_samples_leaf': min_samples_leaf,\n",
    "               'learning_rate':learning_rate}"
   ]
  },
  {
   "cell_type": "code",
   "execution_count": null,
   "id": "restricted-retrieval",
   "metadata": {},
   "outputs": [],
   "source": [
    "gb = GradientBoostingRegressor()\n",
    "gb_randomsearch=RandomizedSearchCV(estimator=gb, param_distributions=random_grid, n_iter=100)\n",
    "gb_model=gb_randomsearch.fit(train_data[feature_names],train_data['target'])"
   ]
  },
  {
   "cell_type": "code",
   "execution_count": null,
   "id": "foster-orientation",
   "metadata": {},
   "outputs": [],
   "source": [
    "print('best model: {}'.format(model_rf.best_estimator_))\n",
    "print('best score: {}'.format(model_rf.best_score_))\n",
    "print('best model_params: {}'.format(model_rf.best_params_))"
   ]
  },
  {
   "cell_type": "code",
   "execution_count": null,
   "id": "thick-gambling",
   "metadata": {},
   "outputs": [],
   "source": [
    "gb_model_best=model_rf.best_estimator_\n",
    "#gb_model_best.fit(train_data[feature_names][:5],train_data['target'][:5])\n",
    "#predictions=gb_model_best.predict(test_data[feature_names])"
   ]
  },
  {
   "cell_type": "code",
   "execution_count": 7,
   "id": "increased-switch",
   "metadata": {},
   "outputs": [],
   "source": [
    "criterion=['mse', 'mae']\n",
    "n_estimators = [int(x) for x in np.linspace(start = 20, stop = 2000, num = 15)]\n",
    "max_depth = [int(x) for x in np.linspace(10, 110, num = 11)]\n",
    "max_depth.append(None)\n",
    "min_samples_split = [2, 5, 10]\n",
    "min_samples_leaf = [1, 2, 4]\n",
    "bootstrap = [True, False]"
   ]
  },
  {
   "cell_type": "code",
   "execution_count": 8,
   "id": "experimental-found",
   "metadata": {},
   "outputs": [],
   "source": [
    "random_grid = {'n_estimators': n_estimators,\n",
    "               'criterion': criterion,\n",
    "               'max_depth': max_depth,\n",
    "               'min_samples_split': min_samples_split,\n",
    "               'min_samples_leaf': min_samples_leaf,\n",
    "               'bootstrap': bootstrap}"
   ]
  },
  {
   "cell_type": "code",
   "execution_count": null,
   "id": "framed-crossing",
   "metadata": {},
   "outputs": [],
   "source": [
    "xtrees = ExtraTreesRegressor()\n",
    "x_randomsearch=RandomizedSearchCV(estimator=xtrees,param_distributions=random_grid,n_iter=100)\n",
    "x_model=x_randomsearch.fit(train_data[feature_names],train_data['target'])"
   ]
  },
  {
   "cell_type": "markdown",
   "id": "starting-penguin",
   "metadata": {},
   "source": [
    "#### support vector machines"
   ]
  },
  {
   "cell_type": "code",
   "execution_count": null,
   "id": "appreciated-subscription",
   "metadata": {},
   "outputs": [],
   "source": [
    "kernel=['linear', 'poly', 'rbf', 'sigmoid']\n",
    "degree=[2,3,4,5]\n",
    "gamma=['scale', 'auto']\n",
    "C=[1,2,3,4,5]\n",
    "epsilon=[0.1,0.2,0.3,0.4,0.5]\n",
    "shrinking=[True,False]"
   ]
  },
  {
   "cell_type": "code",
   "execution_count": null,
   "id": "certain-thompson",
   "metadata": {},
   "outputs": [],
   "source": [
    "random_grid={\n",
    "             'kernel':kernel,\n",
    "             'degree':degree,\n",
    "             'gamma':gamma,\n",
    "             'C': C,\n",
    "             'epsilon':epsilon,\n",
    "             'shrinking':shrinking\n",
    "            }"
   ]
  },
  {
   "cell_type": "code",
   "execution_count": null,
   "id": "speaking-winter",
   "metadata": {},
   "outputs": [],
   "source": [
    "svr = SVR()\n",
    "svr_randomsearch=RandomizedSearchCV(estimator=svr,param_distributions=random_grid,n_iter=100)\n",
    "model_svr=svr_randomsearch.fit(train_data[feature_names],train_data['target'])"
   ]
  },
  {
   "cell_type": "code",
   "execution_count": null,
   "id": "parliamentary-hawaiian",
   "metadata": {},
   "outputs": [],
   "source": [
    "print('best model: {}'.format(model_svr.best_estimator_))\n",
    "print('best score: {}'.format(model_svr.best_score_))\n",
    "print('best model_params: {}'.format(model_svr.best_params_))\n",
    "\n",
    "svr_model_best=model_svr.best_estimator_\n",
    "#svr_model_best.fit(train_data[feature_names][:5],train_data['target'][:5])\n",
    "#predictions=svr_model_best.predict(test_data[feature_names])"
   ]
  },
  {
   "cell_type": "code",
   "execution_count": null,
   "id": "fabulous-dress",
   "metadata": {},
   "outputs": [],
   "source": [
    "ensemble = VotingRegressor(estimators=[('rf', rf_model_best), ('gb', gb_model_best), ('svr', svr_model_best)])\n",
    "ensemble = ensemble.fit(train_data[feature_names], train_data['target'])\n",
    "predictions=ensemble.predict(test_data[feature_names])"
   ]
  },
  {
   "cell_type": "code",
   "execution_count": null,
   "id": "strategic-bacteria",
   "metadata": {},
   "outputs": [],
   "source": []
  },
  {
   "cell_type": "code",
   "execution_count": null,
   "id": "based-supervision",
   "metadata": {},
   "outputs": [],
   "source": []
  },
  {
   "cell_type": "code",
   "execution_count": null,
   "id": "neither-transcript",
   "metadata": {},
   "outputs": [],
   "source": []
  },
  {
   "cell_type": "code",
   "execution_count": null,
   "id": "funded-convenience",
   "metadata": {},
   "outputs": [],
   "source": []
  },
  {
   "cell_type": "code",
   "execution_count": null,
   "id": "domestic-norman",
   "metadata": {},
   "outputs": [],
   "source": []
  },
  {
   "cell_type": "code",
   "execution_count": null,
   "id": "informative-jefferson",
   "metadata": {},
   "outputs": [],
   "source": []
  },
  {
   "cell_type": "code",
   "execution_count": null,
   "id": "gross-manner",
   "metadata": {},
   "outputs": [],
   "source": []
  },
  {
   "cell_type": "code",
   "execution_count": null,
   "id": "comprehensive-sound",
   "metadata": {},
   "outputs": [],
   "source": []
  },
  {
   "cell_type": "code",
   "execution_count": null,
   "id": "leading-midwest",
   "metadata": {},
   "outputs": [],
   "source": []
  },
  {
   "cell_type": "code",
   "execution_count": null,
   "id": "working-grave",
   "metadata": {},
   "outputs": [],
   "source": []
  },
  {
   "cell_type": "code",
   "execution_count": null,
   "id": "gorgeous-matthew",
   "metadata": {},
   "outputs": [],
   "source": []
  },
  {
   "cell_type": "code",
   "execution_count": null,
   "id": "joint-relation",
   "metadata": {},
   "outputs": [],
   "source": []
  },
  {
   "cell_type": "code",
   "execution_count": null,
   "id": "harmful-following",
   "metadata": {},
   "outputs": [],
   "source": []
  },
  {
   "cell_type": "code",
   "execution_count": null,
   "id": "musical-thomson",
   "metadata": {},
   "outputs": [],
   "source": []
  },
  {
   "cell_type": "code",
   "execution_count": null,
   "id": "developing-facility",
   "metadata": {},
   "outputs": [],
   "source": []
  },
  {
   "cell_type": "code",
   "execution_count": null,
   "id": "infrared-adventure",
   "metadata": {},
   "outputs": [],
   "source": []
  },
  {
   "cell_type": "code",
   "execution_count": null,
   "id": "prostate-grocery",
   "metadata": {},
   "outputs": [],
   "source": []
  },
  {
   "cell_type": "code",
   "execution_count": null,
   "id": "committed-invasion",
   "metadata": {},
   "outputs": [],
   "source": []
  },
  {
   "cell_type": "code",
   "execution_count": null,
   "id": "cross-architecture",
   "metadata": {},
   "outputs": [],
   "source": []
  },
  {
   "cell_type": "code",
   "execution_count": null,
   "id": "interpreted-hobby",
   "metadata": {},
   "outputs": [],
   "source": []
  },
  {
   "cell_type": "code",
   "execution_count": null,
   "id": "owned-twenty",
   "metadata": {},
   "outputs": [],
   "source": []
  },
  {
   "cell_type": "code",
   "execution_count": null,
   "id": "spiritual-athletics",
   "metadata": {},
   "outputs": [],
   "source": []
  },
  {
   "cell_type": "code",
   "execution_count": null,
   "id": "australian-tiger",
   "metadata": {},
   "outputs": [],
   "source": []
  },
  {
   "cell_type": "code",
   "execution_count": null,
   "id": "third-chain",
   "metadata": {},
   "outputs": [],
   "source": []
  },
  {
   "cell_type": "code",
   "execution_count": null,
   "id": "global-prophet",
   "metadata": {},
   "outputs": [],
   "source": []
  },
  {
   "cell_type": "code",
   "execution_count": null,
   "id": "blank-worst",
   "metadata": {},
   "outputs": [],
   "source": []
  },
  {
   "cell_type": "code",
   "execution_count": null,
   "id": "studied-stomach",
   "metadata": {},
   "outputs": [],
   "source": []
  },
  {
   "cell_type": "code",
   "execution_count": null,
   "id": "abroad-negative",
   "metadata": {},
   "outputs": [],
   "source": []
  },
  {
   "cell_type": "code",
   "execution_count": null,
   "id": "clear-sector",
   "metadata": {},
   "outputs": [],
   "source": []
  },
  {
   "cell_type": "code",
   "execution_count": null,
   "id": "packed-fourth",
   "metadata": {},
   "outputs": [],
   "source": []
  },
  {
   "cell_type": "code",
   "execution_count": null,
   "id": "featured-warner",
   "metadata": {},
   "outputs": [],
   "source": []
  },
  {
   "cell_type": "code",
   "execution_count": null,
   "id": "seeing-inflation",
   "metadata": {},
   "outputs": [],
   "source": []
  },
  {
   "cell_type": "code",
   "execution_count": null,
   "id": "binary-jefferson",
   "metadata": {},
   "outputs": [],
   "source": []
  },
  {
   "cell_type": "code",
   "execution_count": null,
   "id": "large-samoa",
   "metadata": {},
   "outputs": [],
   "source": []
  },
  {
   "cell_type": "code",
   "execution_count": null,
   "id": "finnish-cursor",
   "metadata": {},
   "outputs": [],
   "source": []
  },
  {
   "cell_type": "code",
   "execution_count": null,
   "id": "educated-fossil",
   "metadata": {},
   "outputs": [],
   "source": []
  },
  {
   "cell_type": "code",
   "execution_count": null,
   "id": "hispanic-surveillance",
   "metadata": {},
   "outputs": [],
   "source": []
  },
  {
   "cell_type": "code",
   "execution_count": null,
   "id": "structured-skating",
   "metadata": {},
   "outputs": [],
   "source": []
  },
  {
   "cell_type": "code",
   "execution_count": null,
   "id": "cutting-korea",
   "metadata": {},
   "outputs": [],
   "source": []
  },
  {
   "cell_type": "code",
   "execution_count": null,
   "id": "motivated-picking",
   "metadata": {},
   "outputs": [],
   "source": []
  },
  {
   "cell_type": "code",
   "execution_count": null,
   "id": "healthy-circular",
   "metadata": {},
   "outputs": [],
   "source": []
  },
  {
   "cell_type": "code",
   "execution_count": null,
   "id": "terminal-lincoln",
   "metadata": {},
   "outputs": [],
   "source": []
  },
  {
   "cell_type": "code",
   "execution_count": null,
   "id": "victorian-secretariat",
   "metadata": {},
   "outputs": [],
   "source": []
  },
  {
   "cell_type": "code",
   "execution_count": null,
   "id": "genetic-tribune",
   "metadata": {},
   "outputs": [],
   "source": []
  },
  {
   "cell_type": "code",
   "execution_count": null,
   "id": "missing-margin",
   "metadata": {},
   "outputs": [],
   "source": []
  },
  {
   "cell_type": "code",
   "execution_count": null,
   "id": "magnetic-collar",
   "metadata": {},
   "outputs": [],
   "source": []
  },
  {
   "cell_type": "code",
   "execution_count": null,
   "id": "surgical-purchase",
   "metadata": {},
   "outputs": [],
   "source": []
  },
  {
   "cell_type": "code",
   "execution_count": null,
   "id": "italic-development",
   "metadata": {},
   "outputs": [],
   "source": []
  },
  {
   "cell_type": "code",
   "execution_count": null,
   "id": "suited-madness",
   "metadata": {},
   "outputs": [],
   "source": []
  },
  {
   "cell_type": "code",
   "execution_count": null,
   "id": "useful-score",
   "metadata": {},
   "outputs": [],
   "source": []
  },
  {
   "cell_type": "code",
   "execution_count": null,
   "id": "forty-companion",
   "metadata": {},
   "outputs": [],
   "source": []
  },
  {
   "cell_type": "code",
   "execution_count": null,
   "id": "opening-communist",
   "metadata": {},
   "outputs": [],
   "source": []
  },
  {
   "cell_type": "code",
   "execution_count": null,
   "id": "certain-brunei",
   "metadata": {},
   "outputs": [],
   "source": []
  },
  {
   "cell_type": "code",
   "execution_count": null,
   "id": "decent-ordering",
   "metadata": {},
   "outputs": [],
   "source": []
  },
  {
   "cell_type": "code",
   "execution_count": null,
   "id": "imposed-notice",
   "metadata": {},
   "outputs": [],
   "source": []
  },
  {
   "cell_type": "code",
   "execution_count": null,
   "id": "precise-andrew",
   "metadata": {},
   "outputs": [],
   "source": []
  },
  {
   "cell_type": "code",
   "execution_count": null,
   "id": "tutorial-wesley",
   "metadata": {},
   "outputs": [],
   "source": []
  },
  {
   "cell_type": "code",
   "execution_count": null,
   "id": "configured-flashing",
   "metadata": {},
   "outputs": [],
   "source": []
  },
  {
   "cell_type": "code",
   "execution_count": null,
   "id": "limiting-tamil",
   "metadata": {},
   "outputs": [],
   "source": []
  },
  {
   "cell_type": "code",
   "execution_count": null,
   "id": "amateur-cruise",
   "metadata": {},
   "outputs": [],
   "source": []
  },
  {
   "cell_type": "code",
   "execution_count": null,
   "id": "twelve-roommate",
   "metadata": {},
   "outputs": [],
   "source": []
  },
  {
   "cell_type": "code",
   "execution_count": null,
   "id": "editorial-chocolate",
   "metadata": {},
   "outputs": [],
   "source": []
  },
  {
   "cell_type": "code",
   "execution_count": null,
   "id": "polyphonic-miller",
   "metadata": {},
   "outputs": [],
   "source": []
  },
  {
   "cell_type": "code",
   "execution_count": null,
   "id": "virgin-luther",
   "metadata": {},
   "outputs": [],
   "source": []
  },
  {
   "cell_type": "markdown",
   "id": "phantom-cartoon",
   "metadata": {},
   "source": [
    "#### xgboost regressor"
   ]
  },
  {
   "cell_type": "code",
   "execution_count": null,
   "id": "gross-gossip",
   "metadata": {},
   "outputs": [],
   "source": [
    "n_estimators = [int(x) for x in np.linspace(start = 20, stop = 2000, num = 15)]\n",
    "learning_rate=[0.0001, 0.001, 0.1]\n",
    "min_child_weight=[0.1, 1, 5, 10, 50]\n",
    "gamma=[0.5, 1, 1.5, 2, 5]\n",
    "subsample=[0.6, 0.8, 1.0]\n",
    "colsample_bytree=[0.6, 0.8, 1.0]\n",
    "max_depth=[5, 10, 25, 50]\n",
    "learning_rate=[0.0001, 0.001, 0.1]\n",
    "n_estimators=[50, 100, 250, 500]\n",
    "reg_alpha=[0.0001, 0.001, 0.1, 1]\n",
    "reg_lambda=[0.0001, 0.001, 0.1, 1]\n",
    "\n",
    "random_grid = {\n",
    "    'min_child_weight':[0.1, 1, 5, 10, 50],\n",
    "    'gamma': [0.5, 1, 1.5, 2, 5],\n",
    "    'subsample': [0.6, 0.8, 1.0],\n",
    "    'colsample_bytree': [0.6, 0.8, 1.0],\n",
    "    'max_depth': [5, 10, 25, 50],\n",
    "    'learning_rate': [0.0001, 0.001, 0.1],\n",
    "    'n_estimators': [50, 100, 250, 500],\n",
    "    'reg_alpha': [0.0001, 0.001, 0.1, 1],\n",
    "    'reg_lambda': [0.0001, 0.001, 0.1, 1]\n",
    "    }"
   ]
  },
  {
   "cell_type": "code",
   "execution_count": null,
   "id": "racial-broad",
   "metadata": {},
   "outputs": [],
   "source": [
    "xgb = XGBRegressor()\n",
    "xgb_randomsearch=RandomizedSearchCV(estimator=xgb,param_distributions=random_grid,n_iter=100)\n",
    "xgb_model=xgb_randomsearch.fit(train_data[feature_names],train_data['target'])"
   ]
  },
  {
   "cell_type": "code",
   "execution_count": null,
   "id": "pending-enhancement",
   "metadata": {},
   "outputs": [],
   "source": [
    "print('best model: {}'.format(model_rf.best_estimator_))\n",
    "print('best score: {}'.format(model_rf.best_score_)\n",
    "print('best model_params: {}'.format(model_rf.best_params_)"
   ]
  },
  {
   "cell_type": "code",
   "execution_count": null,
   "id": "green-laptop",
   "metadata": {},
   "outputs": [],
   "source": [
    "xgb_model_best=model_rf.best_estimator_\n",
    "xgb_model_best.fit(train_data[feature_names][:5],train_data['target'][:5])\n",
    "predictions=xgb_model_best.predict(test_data[feature_names])"
   ]
  },
  {
   "cell_type": "markdown",
   "id": "digital-crime",
   "metadata": {},
   "source": [
    "#### lgbm regressor"
   ]
  },
  {
   "cell_type": "code",
   "execution_count": null,
   "id": "warming-audience",
   "metadata": {},
   "outputs": [],
   "source": [
    "lgbm = LGBMBoostRegressor()"
   ]
  },
  {
   "cell_type": "code",
   "execution_count": null,
   "id": "local-victim",
   "metadata": {},
   "outputs": [],
   "source": []
  },
  {
   "cell_type": "code",
   "execution_count": null,
   "id": "historical-charter",
   "metadata": {},
   "outputs": [],
   "source": []
  },
  {
   "cell_type": "markdown",
   "id": "competent-whale",
   "metadata": {},
   "source": [
    "#### catboost regressor"
   ]
  },
  {
   "cell_type": "code",
   "execution_count": null,
   "id": "average-studio",
   "metadata": {},
   "outputs": [],
   "source": [
    "cb_model = CatBoostRegressor()"
   ]
  },
  {
   "cell_type": "code",
   "execution_count": null,
   "id": "featured-auditor",
   "metadata": {},
   "outputs": [],
   "source": []
  },
  {
   "cell_type": "code",
   "execution_count": null,
   "id": "bearing-lobby",
   "metadata": {},
   "outputs": [],
   "source": []
  },
  {
   "cell_type": "code",
   "execution_count": null,
   "id": "organized-capture",
   "metadata": {},
   "outputs": [],
   "source": []
  },
  {
   "cell_type": "code",
   "execution_count": null,
   "id": "current-penalty",
   "metadata": {},
   "outputs": [],
   "source": []
  },
  {
   "cell_type": "code",
   "execution_count": null,
   "id": "laughing-brook",
   "metadata": {},
   "outputs": [],
   "source": []
  }
 ],
 "metadata": {
  "kernelspec": {
   "display_name": "Python 3",
   "language": "python",
   "name": "python3"
  },
  "language_info": {
   "codemirror_mode": {
    "name": "ipython",
    "version": 3
   },
   "file_extension": ".py",
   "mimetype": "text/x-python",
   "name": "python",
   "nbconvert_exporter": "python",
   "pygments_lexer": "ipython3",
   "version": "3.7.9"
  }
 },
 "nbformat": 4,
 "nbformat_minor": 5
}
