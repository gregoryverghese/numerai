{
 "cells": [
  {
   "cell_type": "code",
   "execution_count": 2,
   "id": "organizational-headline",
   "metadata": {},
   "outputs": [],
   "source": [
    "import sys\n",
    "\n",
    "import numerapi\n",
    "import numpy as np\n",
    "import pandas as pd\n",
    "import seaborn as sns\n",
    "import matplotlib.pyplot as plt\n",
    "from xgboost import XGBRegressor\n",
    "from lightgbm import LGBMRegressor\n",
    "from catboost import CatBoostRegressor\n",
    "from sklearn.decomposition import PCA"
   ]
  },
  {
   "cell_type": "code",
   "execution_count": 4,
   "id": "higher-peoples",
   "metadata": {},
   "outputs": [],
   "source": [
    "public_key='Z3WSDWZNFSLTNXIJPUGWLXUEXNRGENV6'\n",
    "secret_key='LNA57ECIKXLOO73P2JS3CA56BNMAA6BFVFY2YTAQ7IEBS47HWVDFYM7PRHT5OSD2'\n",
    "model_id='cf1b66bc-0e73-44dd-95b4-e3021ea3b09a'"
   ]
  },
  {
   "cell_type": "code",
   "execution_count": 3,
   "id": "orange-tractor",
   "metadata": {},
   "outputs": [],
   "source": [
    "try:\n",
    "    train_data=pd.read_csv('../data/numerai_dataset_252/numerai_training_data.csv').set_index('id')\n",
    "    test_data=pd.read_csv('../data/numerai_dataset_252/numerai_tournament_data.csv').set_index('id')\n",
    "except Exception as e:\n",
    "    num_api = numerapi.NumerAPI(public_key, secret_key,verbosity=\"info\")\n",
    "    num_api.download_current_dataset(dest_path='../data/')"
   ]
  },
  {
   "cell_type": "code",
   "execution_count": 4,
   "id": "cathedral-place",
   "metadata": {},
   "outputs": [],
   "source": [
    "feature_names=[c for c in train_data.columns if 'feature' in c]"
   ]
  },
  {
   "cell_type": "code",
   "execution_count": 21,
   "id": "regulated-hampshire",
   "metadata": {},
   "outputs": [
    {
     "data": {
      "text/plain": [
       "False"
      ]
     },
     "execution_count": 21,
     "metadata": {},
     "output_type": "execute_result"
    }
   ],
   "source": [
    "train_data.replace([np.inf, -np.inf], np.nan)\n",
    "train_data.isnull().values.any()"
   ]
  },
  {
   "cell_type": "code",
   "execution_count": 16,
   "id": "certified-harvard",
   "metadata": {},
   "outputs": [
    {
     "data": {
      "text/plain": [
       "PCA(n_components=50)"
      ]
     },
     "execution_count": 16,
     "metadata": {},
     "output_type": "execute_result"
    }
   ],
   "source": [
    "pca=PCA(n_components=50)\n",
    "pca.fit(train_data[feature_names])"
   ]
  },
  {
   "cell_type": "code",
   "execution_count": 6,
   "id": "impaired-baker",
   "metadata": {},
   "outputs": [],
   "source": [
    "x_train_pca = pca.transform(train_data[feature_names])\n",
    "x_test_pca = pca.transform(test_data[feature_names])"
   ]
  },
  {
   "cell_type": "markdown",
   "id": "banner-breast",
   "metadata": {},
   "source": [
    "inject gaussian noise into the pca transformed dataset"
   ]
  },
  {
   "cell_type": "code",
   "execution_count": 9,
   "id": "responsible-austria",
   "metadata": {},
   "outputs": [],
   "source": [
    "import numpy as np\n",
    "\n",
    "mu,sigma=0,0.1\n",
    "noise=np.random.normal(mu,sigma,x_train_pca.shape)\n",
    "x_train_pca=x_train_pca+noise"
   ]
  },
  {
   "cell_type": "code",
   "execution_count": 10,
   "id": "extensive-conjunction",
   "metadata": {},
   "outputs": [],
   "source": [
    "noise=np.random.normal(mu,sigma,x_train_pca.shape)\n",
    "x_train_pca=x_train_pca+noise"
   ]
  },
  {
   "cell_type": "code",
   "execution_count": 14,
   "id": "received-heather",
   "metadata": {},
   "outputs": [],
   "source": [
    "x_train_pca=x_train_pca+noise"
   ]
  },
  {
   "cell_type": "code",
   "execution_count": 17,
   "id": "accepted-visit",
   "metadata": {},
   "outputs": [
    {
     "data": {
      "text/plain": [
       "False"
      ]
     },
     "execution_count": 17,
     "metadata": {},
     "output_type": "execute_result"
    }
   ],
   "source": [
    "train_data.isnull().values.any()"
   ]
  },
  {
   "cell_type": "code",
   "execution_count": null,
   "id": "stainless-naples",
   "metadata": {},
   "outputs": [],
   "source": []
  },
  {
   "cell_type": "code",
   "execution_count": null,
   "id": "exact-composition",
   "metadata": {},
   "outputs": [],
   "source": []
  },
  {
   "cell_type": "code",
   "execution_count": null,
   "id": "ongoing-planet",
   "metadata": {},
   "outputs": [],
   "source": [
    "gbm = lgb.LGBMRegressor(num_leaves=31, learning_rate=0.05, n_estimators=20)\n",
    "gbm.fit(X_train, y_train,eval_set=[(X_test, y_test)], eval_metric='l1',early_stopping_rounds=5)"
   ]
  }
 ],
 "metadata": {
  "kernelspec": {
   "display_name": "venv",
   "language": "python",
   "name": "venv"
  },
  "language_info": {
   "codemirror_mode": {
    "name": "ipython",
    "version": 3
   },
   "file_extension": ".py",
   "mimetype": "text/x-python",
   "name": "python",
   "nbconvert_exporter": "python",
   "pygments_lexer": "ipython3",
   "version": "3.7.9"
  }
 },
 "nbformat": 4,
 "nbformat_minor": 5
}
